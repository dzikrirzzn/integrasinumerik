{
  "nbformat": 4,
  "nbformat_minor": 0,
  "metadata": {
    "colab": {
      "provenance": [],
      "authorship_tag": "ABX9TyMpQLJZiE5IigSfnEMMyuSU",
      "include_colab_link": true
    },
    "kernelspec": {
      "name": "python3",
      "display_name": "Python 3"
    },
    "language_info": {
      "name": "python"
    }
  },
  "cells": [
    {
      "cell_type": "markdown",
      "metadata": {
        "id": "view-in-github",
        "colab_type": "text"
      },
      "source": [
        "<a href=\"https://colab.research.google.com/github/dzikrirzzn/integrasinumerik/blob/main/integrasinumerik.ipynb\" target=\"_parent\"><img src=\"https://colab.research.google.com/assets/colab-badge.svg\" alt=\"Open In Colab\"/></a>"
      ]
    },
    {
      "cell_type": "code",
      "execution_count": 2,
      "metadata": {
        "colab": {
          "base_uri": "https://localhost:8080/"
        },
        "id": "1FKevppzCdR7",
        "outputId": "6510f338-8398-4f62-b329-5f86fa105aad"
      },
      "outputs": [
        {
          "output_type": "stream",
          "name": "stdout",
          "text": [
            "N\tEstimated Pi\t\tRMS Error\t\tExecution Time (s)\n",
            "10\t3.2399259889\t0.0983333353\t0.000042\n",
            "100\t3.1515759869\t0.0099833333\t0.000061\n",
            "1000\t3.1425924869\t0.0009998333\t0.000555\n",
            "10000\t3.1416926519\t0.0000999983\t0.009753\n"
          ]
        }
      ],
      "source": [
        "def f(x):\n",
        "    return 4 / (1 + x**2)\n",
        "\n",
        "def reimann_integration(N):\n",
        "    delta_x = 1 / N\n",
        "    integral_sum = sum(f(i * delta_x) for i in range(N))\n",
        "    return delta_x * integral_sum\n",
        "\n",
        "# Fungsi untuk menghitung galat RMS\n",
        "def rms_error(estimated_pi):\n",
        "    true_pi = 3.14159265358979323846\n",
        "    error = abs(estimated_pi - true_pi)\n",
        "    return error\n",
        "\n",
        "# Fungsi untuk mengukur waktu eksekusi\n",
        "import time\n",
        "def execution_time(func, *args):\n",
        "    start_time = time.time()\n",
        "    result = func(*args)\n",
        "    end_time = time.time()\n",
        "    return result, end_time - start_time\n",
        "\n",
        "# Variasi nilai N\n",
        "N_values = [10, 100, 1000, 10000]\n",
        "\n",
        "# Pengujian\n",
        "results = []\n",
        "for N in N_values:\n",
        "    estimated_pi, exec_time = execution_time(reimann_integration, N)\n",
        "    error = rms_error(estimated_pi)\n",
        "    results.append((N, estimated_pi, error, exec_time))\n",
        "\n",
        "# Menampilkan hasil\n",
        "print(\"N\\tEstimated Pi\\t\\tRMS Error\\t\\tExecution Time (s)\")\n",
        "for result in results:\n",
        "    print(\"{}\\t{:.10f}\\t{:.10f}\\t{:.6f}\".format(*result))\n"
      ]
    }
  ]
}